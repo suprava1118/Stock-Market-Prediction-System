{
 "cells": [
  {
   "cell_type": "code",
   "execution_count": 1,
   "metadata": {},
   "outputs": [],
   "source": [
    "import pandas as pd\n",
    "import matplotlib.pyplot as plt\n",
    "import numpy as np\n",
    "import seaborn as sns\n",
    "import os"
   ]
  },
  {
   "cell_type": "code",
   "execution_count": 2,
   "metadata": {},
   "outputs": [
    {
     "data": {
      "text/html": [
       "<div>\n",
       "<style scoped>\n",
       "    .dataframe tbody tr th:only-of-type {\n",
       "        vertical-align: middle;\n",
       "    }\n",
       "\n",
       "    .dataframe tbody tr th {\n",
       "        vertical-align: top;\n",
       "    }\n",
       "\n",
       "    .dataframe thead th {\n",
       "        text-align: right;\n",
       "    }\n",
       "</style>\n",
       "<table border=\"1\" class=\"dataframe\">\n",
       "  <thead>\n",
       "    <tr style=\"text-align: right;\">\n",
       "      <th></th>\n",
       "      <th>Date</th>\n",
       "      <th>Open</th>\n",
       "      <th>High</th>\n",
       "      <th>Low</th>\n",
       "      <th>Close</th>\n",
       "      <th>Adj Close</th>\n",
       "      <th>Volume</th>\n",
       "    </tr>\n",
       "  </thead>\n",
       "  <tbody>\n",
       "    <tr>\n",
       "      <th>0</th>\n",
       "      <td>2010-06-29</td>\n",
       "      <td>19.000000</td>\n",
       "      <td>25.00</td>\n",
       "      <td>17.540001</td>\n",
       "      <td>23.889999</td>\n",
       "      <td>23.889999</td>\n",
       "      <td>18766300</td>\n",
       "    </tr>\n",
       "    <tr>\n",
       "      <th>1</th>\n",
       "      <td>2010-06-30</td>\n",
       "      <td>25.790001</td>\n",
       "      <td>30.42</td>\n",
       "      <td>23.299999</td>\n",
       "      <td>23.830000</td>\n",
       "      <td>23.830000</td>\n",
       "      <td>17187100</td>\n",
       "    </tr>\n",
       "    <tr>\n",
       "      <th>2</th>\n",
       "      <td>2010-07-01</td>\n",
       "      <td>25.000000</td>\n",
       "      <td>25.92</td>\n",
       "      <td>20.270000</td>\n",
       "      <td>21.959999</td>\n",
       "      <td>21.959999</td>\n",
       "      <td>8218800</td>\n",
       "    </tr>\n",
       "    <tr>\n",
       "      <th>3</th>\n",
       "      <td>2010-07-02</td>\n",
       "      <td>23.000000</td>\n",
       "      <td>23.10</td>\n",
       "      <td>18.709999</td>\n",
       "      <td>19.200001</td>\n",
       "      <td>19.200001</td>\n",
       "      <td>5139800</td>\n",
       "    </tr>\n",
       "    <tr>\n",
       "      <th>4</th>\n",
       "      <td>2010-07-06</td>\n",
       "      <td>20.000000</td>\n",
       "      <td>20.00</td>\n",
       "      <td>15.830000</td>\n",
       "      <td>16.110001</td>\n",
       "      <td>16.110001</td>\n",
       "      <td>6866900</td>\n",
       "    </tr>\n",
       "  </tbody>\n",
       "</table>\n",
       "</div>"
      ],
      "text/plain": [
       "         Date       Open   High        Low      Close  Adj Close    Volume\n",
       "0  2010-06-29  19.000000  25.00  17.540001  23.889999  23.889999  18766300\n",
       "1  2010-06-30  25.790001  30.42  23.299999  23.830000  23.830000  17187100\n",
       "2  2010-07-01  25.000000  25.92  20.270000  21.959999  21.959999   8218800\n",
       "3  2010-07-02  23.000000  23.10  18.709999  19.200001  19.200001   5139800\n",
       "4  2010-07-06  20.000000  20.00  15.830000  16.110001  16.110001   6866900"
      ]
     },
     "execution_count": 2,
     "metadata": {},
     "output_type": "execute_result"
    }
   ],
   "source": [
    "data=pd.read_csv('TSLA.csv')\n",
    "data.head()"
   ]
  },
  {
   "cell_type": "code",
   "execution_count": 4,
   "metadata": {},
   "outputs": [
    {
     "data": {
      "text/plain": [
       "0"
      ]
     },
     "execution_count": 4,
     "metadata": {},
     "output_type": "execute_result"
    }
   ],
   "source": [
    "data.isnull().sum().sum()"
   ]
  },
  {
   "cell_type": "code",
   "execution_count": 5,
   "metadata": {},
   "outputs": [
    {
     "data": {
      "text/html": [
       "<div>\n",
       "<style scoped>\n",
       "    .dataframe tbody tr th:only-of-type {\n",
       "        vertical-align: middle;\n",
       "    }\n",
       "\n",
       "    .dataframe tbody tr th {\n",
       "        vertical-align: top;\n",
       "    }\n",
       "\n",
       "    .dataframe thead th {\n",
       "        text-align: right;\n",
       "    }\n",
       "</style>\n",
       "<table border=\"1\" class=\"dataframe\">\n",
       "  <thead>\n",
       "    <tr style=\"text-align: right;\">\n",
       "      <th></th>\n",
       "      <th>Open</th>\n",
       "      <th>High</th>\n",
       "      <th>Low</th>\n",
       "      <th>Close</th>\n",
       "      <th>Adj Close</th>\n",
       "      <th>Volume</th>\n",
       "    </tr>\n",
       "  </thead>\n",
       "  <tbody>\n",
       "    <tr>\n",
       "      <th>count</th>\n",
       "      <td>2416.000000</td>\n",
       "      <td>2416.000000</td>\n",
       "      <td>2416.000000</td>\n",
       "      <td>2416.000000</td>\n",
       "      <td>2416.000000</td>\n",
       "      <td>2.416000e+03</td>\n",
       "    </tr>\n",
       "    <tr>\n",
       "      <th>mean</th>\n",
       "      <td>186.271147</td>\n",
       "      <td>189.578224</td>\n",
       "      <td>182.916639</td>\n",
       "      <td>186.403651</td>\n",
       "      <td>186.403651</td>\n",
       "      <td>5.572722e+06</td>\n",
       "    </tr>\n",
       "    <tr>\n",
       "      <th>std</th>\n",
       "      <td>118.740163</td>\n",
       "      <td>120.892329</td>\n",
       "      <td>116.857591</td>\n",
       "      <td>119.136020</td>\n",
       "      <td>119.136020</td>\n",
       "      <td>4.987809e+06</td>\n",
       "    </tr>\n",
       "    <tr>\n",
       "      <th>min</th>\n",
       "      <td>16.139999</td>\n",
       "      <td>16.629999</td>\n",
       "      <td>14.980000</td>\n",
       "      <td>15.800000</td>\n",
       "      <td>15.800000</td>\n",
       "      <td>1.185000e+05</td>\n",
       "    </tr>\n",
       "    <tr>\n",
       "      <th>25%</th>\n",
       "      <td>34.342498</td>\n",
       "      <td>34.897501</td>\n",
       "      <td>33.587501</td>\n",
       "      <td>34.400002</td>\n",
       "      <td>34.400002</td>\n",
       "      <td>1.899275e+06</td>\n",
       "    </tr>\n",
       "    <tr>\n",
       "      <th>50%</th>\n",
       "      <td>213.035003</td>\n",
       "      <td>216.745002</td>\n",
       "      <td>208.870002</td>\n",
       "      <td>212.960007</td>\n",
       "      <td>212.960007</td>\n",
       "      <td>4.578400e+06</td>\n",
       "    </tr>\n",
       "    <tr>\n",
       "      <th>75%</th>\n",
       "      <td>266.450012</td>\n",
       "      <td>270.927513</td>\n",
       "      <td>262.102501</td>\n",
       "      <td>266.774994</td>\n",
       "      <td>266.774994</td>\n",
       "      <td>7.361150e+06</td>\n",
       "    </tr>\n",
       "    <tr>\n",
       "      <th>max</th>\n",
       "      <td>673.690002</td>\n",
       "      <td>786.140015</td>\n",
       "      <td>673.520020</td>\n",
       "      <td>780.000000</td>\n",
       "      <td>780.000000</td>\n",
       "      <td>4.706500e+07</td>\n",
       "    </tr>\n",
       "  </tbody>\n",
       "</table>\n",
       "</div>"
      ],
      "text/plain": [
       "              Open         High          Low        Close    Adj Close  \\\n",
       "count  2416.000000  2416.000000  2416.000000  2416.000000  2416.000000   \n",
       "mean    186.271147   189.578224   182.916639   186.403651   186.403651   \n",
       "std     118.740163   120.892329   116.857591   119.136020   119.136020   \n",
       "min      16.139999    16.629999    14.980000    15.800000    15.800000   \n",
       "25%      34.342498    34.897501    33.587501    34.400002    34.400002   \n",
       "50%     213.035003   216.745002   208.870002   212.960007   212.960007   \n",
       "75%     266.450012   270.927513   262.102501   266.774994   266.774994   \n",
       "max     673.690002   786.140015   673.520020   780.000000   780.000000   \n",
       "\n",
       "             Volume  \n",
       "count  2.416000e+03  \n",
       "mean   5.572722e+06  \n",
       "std    4.987809e+06  \n",
       "min    1.185000e+05  \n",
       "25%    1.899275e+06  \n",
       "50%    4.578400e+06  \n",
       "75%    7.361150e+06  \n",
       "max    4.706500e+07  "
      ]
     },
     "execution_count": 5,
     "metadata": {},
     "output_type": "execute_result"
    }
   ],
   "source": [
    "data.describe()"
   ]
  },
  {
   "cell_type": "code",
   "execution_count": 6,
   "metadata": {},
   "outputs": [
    {
     "name": "stdout",
     "output_type": "stream",
     "text": [
      "<class 'pandas.core.frame.DataFrame'>\n",
      "RangeIndex: 2416 entries, 0 to 2415\n",
      "Data columns (total 7 columns):\n",
      " #   Column     Non-Null Count  Dtype  \n",
      "---  ------     --------------  -----  \n",
      " 0   Date       2416 non-null   object \n",
      " 1   Open       2416 non-null   float64\n",
      " 2   High       2416 non-null   float64\n",
      " 3   Low        2416 non-null   float64\n",
      " 4   Close      2416 non-null   float64\n",
      " 5   Adj Close  2416 non-null   float64\n",
      " 6   Volume     2416 non-null   int64  \n",
      "dtypes: float64(5), int64(1), object(1)\n",
      "memory usage: 132.2+ KB\n"
     ]
    }
   ],
   "source": [
    "data.info()"
   ]
  },
  {
   "cell_type": "code",
   "execution_count": 7,
   "metadata": {},
   "outputs": [
    {
     "data": {
      "image/png": "[encoded data removed]",
      "text/plain": [
       "<Figure size 1152x432 with 1 Axes>"
      ]
     },
     "metadata": {
      "needs_background": "light"
     },
     "output_type": "display_data"
    },
    {
     "data": {
      "image/png": "[encoded data removed]",
      "text/plain": [
       "<Figure size 1152x432 with 1 Axes>"
      ]
     },
     "metadata": {
      "needs_background": "light"
     },
     "output_type": "display_data"
    }
   ],
   "source": [
    "plt.rcParams['figure.figsize']=(16,6)\n",
    "data.plot('Date','Close',color='red')\n",
    "new_data=data.head(30)\n",
    "new_data.plot('Date','Close',color='blue')\n",
    "plt.show()"
   ]
  },
  {
   "cell_type": "code",
   "execution_count": 8,
   "metadata": {},
   "outputs": [
    {
     "data": {
      "image/png": "[encoded data removed]",
      "text/plain": [
       "<Figure size 1152x432 with 1 Axes>"
      ]
     },
     "metadata": {
      "needs_background": "light"
     },
     "output_type": "display_data"
    }
   ],
   "source": [
    "plt.rcParams['figure.figsize']=(16,6)\n",
    "plt.plot(range(data.shape[0]),(data['High']+data['Low'])/2.0)\n",
    "plt.xlabel('Date',fontsize='18')\n",
    "plt.ylabel('Mid Price',fontsize='18')\n",
    "plt.show()"
   ]
  },
  {
   "cell_type": "code",
   "execution_count": 9,
   "metadata": {},
   "outputs": [],
   "source": [
    "from sklearn.model_selection import train_test_split\n",
    "train, test = train_test_split(data, test_size=0.20,random_state=0)"
   ]
  },
  {
   "cell_type": "code",
   "execution_count": 10,
   "metadata": {},
   "outputs": [
    {
     "name": "stdout",
     "output_type": "stream",
     "text": [
      "(1932, 1)\n"
     ]
    }
   ],
   "source": [
    "from sklearn.linear_model import LinearRegression\n",
    "X_train=np.array(train.index).reshape(-1,1)\n",
    "print(X_train.shape)"
   ]
  },
  {
   "cell_type": "code",
   "execution_count": 11,
   "metadata": {},
   "outputs": [],
   "source": [
    "Y_train=train['Close']"
   ]
  },
  {
   "cell_type": "code",
   "execution_count": 12,
   "metadata": {},
   "outputs": [
    {
     "data": {
      "text/plain": [
       "LinearRegression()"
      ]
     },
     "execution_count": 12,
     "metadata": {},
     "output_type": "execute_result"
    }
   ],
   "source": [
    "model=LinearRegression()\n",
    "model.fit(X_train,Y_train)"
   ]
  },
  {
   "cell_type": "code",
   "execution_count": 13,
   "metadata": {},
   "outputs": [
    {
     "name": "stdout",
     "output_type": "stream",
     "text": [
      "Slope [0.15276057]\n",
      "Intercept 2.36746266026708\n"
     ]
    }
   ],
   "source": [
    "print(\"Slope\",model.coef_)#means with 1 unit increase in the date the closing price increases by 0.15$\n",
    "print(\"Intercept\",model.intercept_)"
   ]
  },
  {
   "cell_type": "code",
   "execution_count": 14,
   "metadata": {},
   "outputs": [
    {
     "name": "stdout",
     "output_type": "stream",
     "text": [
      "[173.76481802 113.42439434 246.93712927 ... 118.92377473 129.9225355\n",
      " 254.88067872]\n"
     ]
    }
   ],
   "source": [
    "pred=model.predict(X_train)\n",
    "print(pred)"
   ]
  },
  {
   "cell_type": "code",
   "execution_count": 15,
   "metadata": {},
   "outputs": [
    {
     "data": {
      "image/png": "[encoded data removed]",
      "text/plain": [
       "<Figure size 1152x432 with 1 Axes>"
      ]
     },
     "metadata": {
      "needs_background": "light"
     },
     "output_type": "display_data"
    }
   ],
   "source": [
    "plt.rcParams['figure.figsize']=(16,6)\n",
    "plt.title('Linear Regression Price and Date')\n",
    "plt.scatter(X_train,Y_train,label='Actual Price')\n",
    "plt.plot(X_train,pred,color='r',label='Predicted Price')\n",
    "plt.show()"
   ]
  },
  {
   "cell_type": "code",
   "execution_count": 16,
   "metadata": {},
   "outputs": [],
   "source": [
    "X_test=np.array(test.index).reshape(-1,1)\n",
    "Y_test=test['Close']\n",
    "Y_pred=model.predict(X_test)"
   ]
  },
  {
   "cell_type": "code",
   "execution_count": 17,
   "metadata": {},
   "outputs": [
    {
     "data": {
      "text/html": [
       "<div>\n",
       "<style scoped>\n",
       "    .dataframe tbody tr th:only-of-type {\n",
       "        vertical-align: middle;\n",
       "    }\n",
       "\n",
       "    .dataframe tbody tr th {\n",
       "        vertical-align: top;\n",
       "    }\n",
       "\n",
       "    .dataframe thead th {\n",
       "        text-align: right;\n",
       "    }\n",
       "</style>\n",
       "<table border=\"1\" class=\"dataframe\">\n",
       "  <thead>\n",
       "    <tr style=\"text-align: right;\">\n",
       "      <th></th>\n",
       "      <th>Date</th>\n",
       "      <th>Actual</th>\n",
       "      <th>Prediction</th>\n",
       "      <th>Error</th>\n",
       "    </tr>\n",
       "  </thead>\n",
       "  <tbody>\n",
       "    <tr>\n",
       "      <th>966</th>\n",
       "      <td>2014-05-01</td>\n",
       "      <td>207.729996</td>\n",
       "      <td>149.934170</td>\n",
       "      <td>57.795826</td>\n",
       "    </tr>\n",
       "    <tr>\n",
       "      <th>557</th>\n",
       "      <td>2012-09-12</td>\n",
       "      <td>28.280001</td>\n",
       "      <td>87.455098</td>\n",
       "      <td>-59.175097</td>\n",
       "    </tr>\n",
       "    <tr>\n",
       "      <th>148</th>\n",
       "      <td>2011-01-28</td>\n",
       "      <td>24.010000</td>\n",
       "      <td>24.976026</td>\n",
       "      <td>-0.966026</td>\n",
       "    </tr>\n",
       "    <tr>\n",
       "      <th>1917</th>\n",
       "      <td>2018-02-08</td>\n",
       "      <td>315.230011</td>\n",
       "      <td>295.209468</td>\n",
       "      <td>20.020543</td>\n",
       "    </tr>\n",
       "    <tr>\n",
       "      <th>1585</th>\n",
       "      <td>2016-10-13</td>\n",
       "      <td>200.240005</td>\n",
       "      <td>244.492960</td>\n",
       "      <td>-44.252955</td>\n",
       "    </tr>\n",
       "    <tr>\n",
       "      <th>985</th>\n",
       "      <td>2014-05-29</td>\n",
       "      <td>210.240005</td>\n",
       "      <td>152.836620</td>\n",
       "      <td>57.403385</td>\n",
       "    </tr>\n",
       "    <tr>\n",
       "      <th>215</th>\n",
       "      <td>2011-05-05</td>\n",
       "      <td>26.440001</td>\n",
       "      <td>35.210984</td>\n",
       "      <td>-8.770983</td>\n",
       "    </tr>\n",
       "    <tr>\n",
       "      <th>390</th>\n",
       "      <td>2012-01-13</td>\n",
       "      <td>22.790001</td>\n",
       "      <td>61.944084</td>\n",
       "      <td>-39.154083</td>\n",
       "    </tr>\n",
       "    <tr>\n",
       "      <th>1299</th>\n",
       "      <td>2015-08-26</td>\n",
       "      <td>224.839996</td>\n",
       "      <td>200.803438</td>\n",
       "      <td>24.036558</td>\n",
       "    </tr>\n",
       "    <tr>\n",
       "      <th>1806</th>\n",
       "      <td>2017-08-30</td>\n",
       "      <td>353.179993</td>\n",
       "      <td>278.253045</td>\n",
       "      <td>74.926948</td>\n",
       "    </tr>\n",
       "    <tr>\n",
       "      <th>1390</th>\n",
       "      <td>2016-01-06</td>\n",
       "      <td>219.039993</td>\n",
       "      <td>214.704650</td>\n",
       "      <td>4.335343</td>\n",
       "    </tr>\n",
       "    <tr>\n",
       "      <th>1056</th>\n",
       "      <td>2014-09-09</td>\n",
       "      <td>278.480011</td>\n",
       "      <td>163.682621</td>\n",
       "      <td>114.797390</td>\n",
       "    </tr>\n",
       "    <tr>\n",
       "      <th>405</th>\n",
       "      <td>2012-02-06</td>\n",
       "      <td>31.799999</td>\n",
       "      <td>64.235492</td>\n",
       "      <td>-32.435493</td>\n",
       "    </tr>\n",
       "    <tr>\n",
       "      <th>746</th>\n",
       "      <td>2013-06-17</td>\n",
       "      <td>102.199997</td>\n",
       "      <td>116.326845</td>\n",
       "      <td>-14.126848</td>\n",
       "    </tr>\n",
       "    <tr>\n",
       "      <th>70</th>\n",
       "      <td>2010-10-07</td>\n",
       "      <td>20.430000</td>\n",
       "      <td>13.060702</td>\n",
       "      <td>7.369298</td>\n",
       "    </tr>\n",
       "    <tr>\n",
       "      <th>2152</th>\n",
       "      <td>2019-01-16</td>\n",
       "      <td>346.049988</td>\n",
       "      <td>331.108201</td>\n",
       "      <td>14.941787</td>\n",
       "    </tr>\n",
       "    <tr>\n",
       "      <th>733</th>\n",
       "      <td>2013-05-29</td>\n",
       "      <td>104.629997</td>\n",
       "      <td>114.340958</td>\n",
       "      <td>-9.710961</td>\n",
       "    </tr>\n",
       "    <tr>\n",
       "      <th>2281</th>\n",
       "      <td>2019-07-23</td>\n",
       "      <td>260.170013</td>\n",
       "      <td>350.814314</td>\n",
       "      <td>-90.644301</td>\n",
       "    </tr>\n",
       "    <tr>\n",
       "      <th>581</th>\n",
       "      <td>2012-10-16</td>\n",
       "      <td>28.059999</td>\n",
       "      <td>91.121352</td>\n",
       "      <td>-63.061353</td>\n",
       "    </tr>\n",
       "    <tr>\n",
       "      <th>1547</th>\n",
       "      <td>2016-08-19</td>\n",
       "      <td>225.000000</td>\n",
       "      <td>238.688059</td>\n",
       "      <td>-13.688059</td>\n",
       "    </tr>\n",
       "  </tbody>\n",
       "</table>\n",
       "</div>"
      ],
      "text/plain": [
       "            Date      Actual  Prediction       Error\n",
       "966   2014-05-01  207.729996  149.934170   57.795826\n",
       "557   2012-09-12   28.280001   87.455098  -59.175097\n",
       "148   2011-01-28   24.010000   24.976026   -0.966026\n",
       "1917  2018-02-08  315.230011  295.209468   20.020543\n",
       "1585  2016-10-13  200.240005  244.492960  -44.252955\n",
       "985   2014-05-29  210.240005  152.836620   57.403385\n",
       "215   2011-05-05   26.440001   35.210984   -8.770983\n",
       "390   2012-01-13   22.790001   61.944084  -39.154083\n",
       "1299  2015-08-26  224.839996  200.803438   24.036558\n",
       "1806  2017-08-30  353.179993  278.253045   74.926948\n",
       "1390  2016-01-06  219.039993  214.704650    4.335343\n",
       "1056  2014-09-09  278.480011  163.682621  114.797390\n",
       "405   2012-02-06   31.799999   64.235492  -32.435493\n",
       "746   2013-06-17  102.199997  116.326845  -14.126848\n",
       "70    2010-10-07   20.430000   13.060702    7.369298\n",
       "2152  2019-01-16  346.049988  331.108201   14.941787\n",
       "733   2013-05-29  104.629997  114.340958   -9.710961\n",
       "2281  2019-07-23  260.170013  350.814314  -90.644301\n",
       "581   2012-10-16   28.059999   91.121352  -63.061353\n",
       "1547  2016-08-19  225.000000  238.688059  -13.688059"
      ]
     },
     "execution_count": 17,
     "metadata": {},
     "output_type": "execute_result"
    }
   ],
   "source": [
    "df=pd.DataFrame({'Date':test['Date'],'Actual':Y_test,'Prediction':Y_pred,'Error':(Y_test-Y_pred)}).head(20)\n",
    "df"
   ]
  },
  {
   "cell_type": "code",
   "execution_count": 18,
   "metadata": {},
   "outputs": [
    {
     "data": {
      "text/plain": [
       "RandomForestRegressor(n_estimators=200)"
      ]
     },
     "execution_count": 18,
     "metadata": {},
     "output_type": "execute_result"
    }
   ],
   "source": [
    "from sklearn.ensemble import RandomForestRegressor\n",
    "reg=RandomForestRegressor(n_estimators=200)\n",
    "reg.fit(X_train,Y_train)"
   ]
  },
  {
   "cell_type": "code",
   "execution_count": 19,
   "metadata": {},
   "outputs": [
    {
     "data": {
      "text/plain": [
       "array([209.41420042,  28.40679949,  24.68255003, 335.90965308,\n",
       "       199.91224622, 208.45010401,  26.85835096,  28.10859997,\n",
       "       226.72625002, 349.68888867, 221.02284449, 281.35594458,\n",
       "        31.22715002, 101.49154978,  20.5579002 , 338.79589518,\n",
       "       107.06085091, 253.67099823,  27.55850022, 223.3469457 ,\n",
       "       358.68630213, 323.09465081, 224.75225159, 335.55464301,\n",
       "       300.58724553, 187.09915022, 334.0063972 , 270.53284956,\n",
       "       226.23705058, 247.39745165,  26.78900023,  31.49139948,\n",
       "        29.75445064, 221.54010303, 386.03324533, 215.22079772,\n",
       "       210.00369854, 142.29524731, 321.59180908, 218.83839994,\n",
       "       310.31870477,  36.28554915,  23.84704995, 220.12584626,\n",
       "        28.39864977, 231.94424495, 202.37905257,  34.05135116,\n",
       "       323.58998884, 268.07485606, 237.08785056, 301.8976602 ,\n",
       "        36.61619923, 216.5015988 , 283.92504168, 224.48759769,\n",
       "        33.62990036, 237.61819868,  17.41549922,  50.1660995 ,\n",
       "       229.67479913,  33.88155112, 260.29765571, 327.69454293,\n",
       "        27.91594936,  28.10755055, 241.18834832, 229.46494683,\n",
       "        20.42530013,  32.96249995,  33.34684993, 171.12374887,\n",
       "       323.03535404,  23.58359977,  33.19904955, 304.33350679,\n",
       "       308.62400441,  18.52420002,  20.93389941, 244.08755198,\n",
       "       329.13245985, 217.22870092,  54.05044969, 212.54679885,\n",
       "        35.64004986, 347.0180443 ,  34.25150038, 505.61074721,\n",
       "        23.87725017, 226.86250058,  28.34920027, 332.11630477,\n",
       "        38.05709914, 248.58285072, 179.0224535 , 239.88454512,\n",
       "       355.38904575,  31.25485034,  27.76174972,  53.29530116,\n",
       "        35.00024946, 316.25250472, 252.75654984, 349.40679978,\n",
       "       220.29264914,  29.12029979, 193.11630241, 192.25229916,\n",
       "       253.63665022,  26.71244958, 221.66495013, 346.62080454,\n",
       "       229.83915204, 371.13244015, 228.95829792, 159.66685378,\n",
       "       205.2625973 , 268.4778532 , 299.69429421,  20.95665055,\n",
       "       209.75029914, 278.09965695, 226.0244502 ,  26.16325043,\n",
       "       343.30655736, 355.09369445, 221.22815178, 342.33929089,\n",
       "       315.05205361,  21.35369967, 197.70090148, 527.0977494 ,\n",
       "        19.85665025, 274.46219918, 225.96215093, 344.03230323,\n",
       "       344.5922997 , 249.21469969, 203.58055283, 209.32084903,\n",
       "        27.70034985, 341.31520376, 361.20353832, 208.32530088,\n",
       "        22.78484943,  26.56740004,  27.73194973, 198.06985229,\n",
       "       222.40334524, 122.37474926, 244.89169677,  30.75709937,\n",
       "        34.68195007,  24.23005014,  21.40985059,  29.28769981,\n",
       "        20.60664988, 192.51039362, 371.14449094,  24.92249974,\n",
       "       259.60054709,  30.29919937, 235.80990377, 219.59430183,\n",
       "        33.64824992, 222.06814757, 364.44909715, 317.36404698,\n",
       "       290.18559272, 269.47450308, 271.40710175, 305.64534626,\n",
       "       208.48765436, 226.55650251, 329.69040635, 345.92360515,\n",
       "       218.2115468 , 364.25485208,  35.53265117, 313.14755604,\n",
       "       230.11089725,  29.63900004, 252.10719793, 148.78289931,\n",
       "        30.42650016, 243.07960388, 150.52539913,  18.04039915,\n",
       "        20.26890074, 219.66534489, 345.942348  ,  29.28914927,\n",
       "       301.5670969 , 277.55640586, 328.17834903, 221.33339735,\n",
       "       234.41299766,  39.04984929, 224.60700175, 311.40008981,\n",
       "        29.27779939, 264.15995355,  36.71724901, 259.89809969,\n",
       "       249.91875564, 172.57649732, 347.7551016 ,  24.20095003,\n",
       "       340.4696057 , 306.194545  , 150.73465189,  33.89055085,\n",
       "       297.26631177, 234.80189687, 253.93970322, 245.54579979,\n",
       "        26.23519949, 483.51979491,  28.23680021,  37.00945058,\n",
       "       216.72909931, 102.22865016, 300.79489526,  37.46644925,\n",
       "        27.44150038, 241.54220259,  32.8520508 ,  19.95909947,\n",
       "       191.50540417, 248.67825565, 352.84004749, 281.18590922,\n",
       "       253.18615274, 239.57699992, 230.34094927, 225.60859772,\n",
       "       301.94095033,  28.55624996, 201.85214827, 344.28090916,\n",
       "       222.48444648,  28.37020002, 255.14655187, 271.1403618 ,\n",
       "       202.39920072,  19.11830041,  35.22735088,  26.69129999,\n",
       "        28.4365999 , 118.37644918, 343.42630337, 334.46455269,\n",
       "       161.88600088,  33.33964928,  26.66264913, 214.56089911,\n",
       "        98.65600082, 193.55959824,  29.44099999, 364.41214695,\n",
       "       349.41516001,  27.51739993, 241.7087024 , 304.91644513,\n",
       "        33.39160048, 208.16320422, 188.70170107, 251.1709038 ,\n",
       "       273.6516458 , 332.36405148, 188.84974876, 172.56074417,\n",
       "        37.23245086,  35.25935152, 204.94154547, 231.96800116,\n",
       "       184.29919689, 189.52300316, 243.5074963 , 243.45044906,\n",
       "       228.60794754, 265.08630489, 349.37929482,  29.52039994,\n",
       "       248.01540318,  34.32615058, 205.44305028,  34.89229991,\n",
       "       308.11314482, 261.23810378,  22.5349993 , 297.91220588,\n",
       "        20.54600008, 140.94974759,  27.67205012, 218.72815445,\n",
       "       255.20035794, 298.54748857, 286.04919856, 470.48439816,\n",
       "        30.55039962, 151.55410242, 225.79080098, 226.53260239,\n",
       "       359.05229703, 301.65655434,  36.250301  , 166.78719855,\n",
       "       251.70564986, 182.57110228, 237.40579676, 205.41095168,\n",
       "        34.14534978, 303.60334264, 154.82110276, 291.96365824,\n",
       "       251.60675153,  28.61260061,  31.39085063, 125.11620077,\n",
       "        27.84290063,  27.6563505 , 320.68119258,  27.94775   ,\n",
       "       148.22529833, 373.97134008, 208.31710018, 248.73089861,\n",
       "       250.35065248, 258.09245744, 200.61234642, 260.39915419,\n",
       "        30.46644935,  20.89469967,  23.2979994 ,  27.30509974,\n",
       "       313.22435033, 228.9650469 , 119.43805026, 198.72770127,\n",
       "       247.04624579,  57.7961997 , 183.18740203, 224.18074757,\n",
       "        27.09374931, 229.77200012,  32.34170132,  32.50915127,\n",
       "        24.62429982,  23.86839939,  27.91604941, 248.5167971 ,\n",
       "       247.69370416, 224.6856052 , 211.75899674, 163.60490019,\n",
       "       200.38135531, 249.63914657,  26.04419991,  38.51404982,\n",
       "       208.2657516 , 241.39690097,  51.84355016,  34.56590064,\n",
       "       331.51540213, 246.57354711, 216.87744963,  25.87244978,\n",
       "       254.2723945 , 342.52925393,  37.47415022, 313.81864455,\n",
       "       212.40240526, 263.37699622, 169.44454906, 204.67274719,\n",
       "        28.94559991, 296.45154938, 174.90749564, 202.39140289,\n",
       "       341.57150034, 325.38759242,  28.56485002, 331.41234462,\n",
       "        38.13485055, 214.24744996, 207.94835352,  27.75535003,\n",
       "       251.70730555, 233.27190125, 243.66040165, 200.26930287,\n",
       "       247.62970087, 372.4994415 , 261.84740834, 212.74929825,\n",
       "       240.23625045, 281.3245915 , 234.52780055, 346.11909735,\n",
       "        26.87475   , 204.16745102, 237.61819815,  20.53644931,\n",
       "       249.71789834, 182.49764932, 232.16140401, 221.43435305,\n",
       "        23.55294937, 166.82285114, 325.30609788, 242.25890362,\n",
       "        23.48649999, 273.07391004, 222.93649884, 229.47580356,\n",
       "       347.36099609, 259.32614794, 225.63410405,  20.67039927,\n",
       "        27.4647493 ,  24.89444978, 355.97424387, 187.82974607,\n",
       "       229.61889933, 241.80119593,  32.80600031, 205.64324576,\n",
       "       149.01400045,  20.85979955,  24.60459938, 205.59650317,\n",
       "        29.60169914,  26.21454997,  24.46940009, 231.06569728,\n",
       "       249.89015322,  33.02325011,  20.77059964, 324.08285141,\n",
       "       175.08554484, 223.67364717,  27.75364971, 223.39019717,\n",
       "       316.37914186,  24.4214001 ,  89.79115094, 277.66561092,\n",
       "       135.17979946, 229.34859542, 164.60155008, 187.44035489,\n",
       "        34.26634925,  44.08719976, 194.43559621,  29.95189948,\n",
       "       314.37100788,  28.52150058, 223.63234647, 226.86619629,\n",
       "       265.50626153, 237.24170408, 252.91129882,  23.35144997,\n",
       "       189.32320449, 278.19084622,  29.32219992, 165.61604474,\n",
       "        18.78465068, 170.9744456 ,  72.56090197, 262.38160973,\n",
       "       357.86930253, 315.07164933, 264.80785212, 278.51024239,\n",
       "       351.95204344, 206.01505367,  28.4694    , 190.98449458,\n",
       "       351.77374095,  27.81785058, 188.2294502 ,  32.30800065])"
      ]
     },
     "execution_count": 19,
     "metadata": {},
     "output_type": "execute_result"
    }
   ],
   "source": [
    "pred=reg.predict(X_test)\n",
    "pred"
   ]
  },
  {
   "cell_type": "code",
   "execution_count": 20,
   "metadata": {},
   "outputs": [
    {
     "data": {
      "text/html": [
       "<div>\n",
       "<style scoped>\n",
       "    .dataframe tbody tr th:only-of-type {\n",
       "        vertical-align: middle;\n",
       "    }\n",
       "\n",
       "    .dataframe tbody tr th {\n",
       "        vertical-align: top;\n",
       "    }\n",
       "\n",
       "    .dataframe thead th {\n",
       "        text-align: right;\n",
       "    }\n",
       "</style>\n",
       "<table border=\"1\" class=\"dataframe\">\n",
       "  <thead>\n",
       "    <tr style=\"text-align: right;\">\n",
       "      <th></th>\n",
       "      <th>Date</th>\n",
       "      <th>Actual</th>\n",
       "      <th>Prediction</th>\n",
       "      <th>Error</th>\n",
       "    </tr>\n",
       "  </thead>\n",
       "  <tbody>\n",
       "    <tr>\n",
       "      <th>966</th>\n",
       "      <td>2014-05-01</td>\n",
       "      <td>207.729996</td>\n",
       "      <td>209.414200</td>\n",
       "      <td>-1.684204</td>\n",
       "    </tr>\n",
       "    <tr>\n",
       "      <th>557</th>\n",
       "      <td>2012-09-12</td>\n",
       "      <td>28.280001</td>\n",
       "      <td>28.406799</td>\n",
       "      <td>-0.126798</td>\n",
       "    </tr>\n",
       "    <tr>\n",
       "      <th>148</th>\n",
       "      <td>2011-01-28</td>\n",
       "      <td>24.010000</td>\n",
       "      <td>24.682550</td>\n",
       "      <td>-0.672550</td>\n",
       "    </tr>\n",
       "    <tr>\n",
       "      <th>1917</th>\n",
       "      <td>2018-02-08</td>\n",
       "      <td>315.230011</td>\n",
       "      <td>335.909653</td>\n",
       "      <td>-20.679642</td>\n",
       "    </tr>\n",
       "    <tr>\n",
       "      <th>1585</th>\n",
       "      <td>2016-10-13</td>\n",
       "      <td>200.240005</td>\n",
       "      <td>199.912246</td>\n",
       "      <td>0.327759</td>\n",
       "    </tr>\n",
       "    <tr>\n",
       "      <th>985</th>\n",
       "      <td>2014-05-29</td>\n",
       "      <td>210.240005</td>\n",
       "      <td>208.450104</td>\n",
       "      <td>1.789901</td>\n",
       "    </tr>\n",
       "    <tr>\n",
       "      <th>215</th>\n",
       "      <td>2011-05-05</td>\n",
       "      <td>26.440001</td>\n",
       "      <td>26.858351</td>\n",
       "      <td>-0.418350</td>\n",
       "    </tr>\n",
       "    <tr>\n",
       "      <th>390</th>\n",
       "      <td>2012-01-13</td>\n",
       "      <td>22.790001</td>\n",
       "      <td>28.108600</td>\n",
       "      <td>-5.318599</td>\n",
       "    </tr>\n",
       "    <tr>\n",
       "      <th>1299</th>\n",
       "      <td>2015-08-26</td>\n",
       "      <td>224.839996</td>\n",
       "      <td>226.726250</td>\n",
       "      <td>-1.886254</td>\n",
       "    </tr>\n",
       "    <tr>\n",
       "      <th>1806</th>\n",
       "      <td>2017-08-30</td>\n",
       "      <td>353.179993</td>\n",
       "      <td>349.688889</td>\n",
       "      <td>3.491104</td>\n",
       "    </tr>\n",
       "    <tr>\n",
       "      <th>1390</th>\n",
       "      <td>2016-01-06</td>\n",
       "      <td>219.039993</td>\n",
       "      <td>221.022844</td>\n",
       "      <td>-1.982851</td>\n",
       "    </tr>\n",
       "    <tr>\n",
       "      <th>1056</th>\n",
       "      <td>2014-09-09</td>\n",
       "      <td>278.480011</td>\n",
       "      <td>281.355945</td>\n",
       "      <td>-2.875934</td>\n",
       "    </tr>\n",
       "    <tr>\n",
       "      <th>405</th>\n",
       "      <td>2012-02-06</td>\n",
       "      <td>31.799999</td>\n",
       "      <td>31.227150</td>\n",
       "      <td>0.572849</td>\n",
       "    </tr>\n",
       "    <tr>\n",
       "      <th>746</th>\n",
       "      <td>2013-06-17</td>\n",
       "      <td>102.199997</td>\n",
       "      <td>101.491550</td>\n",
       "      <td>0.708447</td>\n",
       "    </tr>\n",
       "    <tr>\n",
       "      <th>70</th>\n",
       "      <td>2010-10-07</td>\n",
       "      <td>20.430000</td>\n",
       "      <td>20.557900</td>\n",
       "      <td>-0.127900</td>\n",
       "    </tr>\n",
       "    <tr>\n",
       "      <th>2152</th>\n",
       "      <td>2019-01-16</td>\n",
       "      <td>346.049988</td>\n",
       "      <td>338.795895</td>\n",
       "      <td>7.254093</td>\n",
       "    </tr>\n",
       "    <tr>\n",
       "      <th>733</th>\n",
       "      <td>2013-05-29</td>\n",
       "      <td>104.629997</td>\n",
       "      <td>107.060851</td>\n",
       "      <td>-2.430854</td>\n",
       "    </tr>\n",
       "    <tr>\n",
       "      <th>2281</th>\n",
       "      <td>2019-07-23</td>\n",
       "      <td>260.170013</td>\n",
       "      <td>253.670998</td>\n",
       "      <td>6.499015</td>\n",
       "    </tr>\n",
       "    <tr>\n",
       "      <th>581</th>\n",
       "      <td>2012-10-16</td>\n",
       "      <td>28.059999</td>\n",
       "      <td>27.558500</td>\n",
       "      <td>0.501499</td>\n",
       "    </tr>\n",
       "    <tr>\n",
       "      <th>1547</th>\n",
       "      <td>2016-08-19</td>\n",
       "      <td>225.000000</td>\n",
       "      <td>223.346946</td>\n",
       "      <td>1.653054</td>\n",
       "    </tr>\n",
       "  </tbody>\n",
       "</table>\n",
       "</div>"
      ],
      "text/plain": [
       "            Date      Actual  Prediction      Error\n",
       "966   2014-05-01  207.729996  209.414200  -1.684204\n",
       "557   2012-09-12   28.280001   28.406799  -0.126798\n",
       "148   2011-01-28   24.010000   24.682550  -0.672550\n",
       "1917  2018-02-08  315.230011  335.909653 -20.679642\n",
       "1585  2016-10-13  200.240005  199.912246   0.327759\n",
       "985   2014-05-29  210.240005  208.450104   1.789901\n",
       "215   2011-05-05   26.440001   26.858351  -0.418350\n",
       "390   2012-01-13   22.790001   28.108600  -5.318599\n",
       "1299  2015-08-26  224.839996  226.726250  -1.886254\n",
       "1806  2017-08-30  353.179993  349.688889   3.491104\n",
       "1390  2016-01-06  219.039993  221.022844  -1.982851\n",
       "1056  2014-09-09  278.480011  281.355945  -2.875934\n",
       "405   2012-02-06   31.799999   31.227150   0.572849\n",
       "746   2013-06-17  102.199997  101.491550   0.708447\n",
       "70    2010-10-07   20.430000   20.557900  -0.127900\n",
       "2152  2019-01-16  346.049988  338.795895   7.254093\n",
       "733   2013-05-29  104.629997  107.060851  -2.430854\n",
       "2281  2019-07-23  260.170013  253.670998   6.499015\n",
       "581   2012-10-16   28.059999   27.558500   0.501499\n",
       "1547  2016-08-19  225.000000  223.346946   1.653054"
      ]
     },
     "execution_count": 20,
     "metadata": {},
     "output_type": "execute_result"
    }
   ],
   "source": [
    "df=pd.DataFrame({'Date':test['Date'],'Actual':Y_test,'Prediction':pred,'Error':(Y_test-pred)}).head(20)\n",
    "df"
   ]
  },
  {
   "cell_type": "code",
   "execution_count": null,
   "metadata": {},
   "outputs": [],
   "source": []
  }
 ],
 "metadata": {
  "kernelspec": {
   "display_name": "Python 3",
   "language": "python",
   "name": "python3"
  },
  "language_info": {
   "codemirror_mode": {
    "name": "ipython",
    "version": 3
   },
   "file_extension": ".py",
   "mimetype": "text/x-python",
   "name": "python",
   "nbconvert_exporter": "python",
   "pygments_lexer": "ipython3",
   "version": "3.8.3"
  }
 },
 "nbformat": 4,
 "nbformat_minor": 4
}
